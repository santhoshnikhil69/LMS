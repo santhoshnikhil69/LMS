{
 "cells": [
  {
   "cell_type": "code",
   "execution_count": 2,
   "id": "a888481a",
   "metadata": {},
   "outputs": [
    {
     "name": "stdout",
     "output_type": "stream",
     "text": [
      "Collecting gensim\n",
      "  Downloading gensim-4.3.3-cp39-cp39-win_amd64.whl (24.0 MB)\n",
      "Requirement already satisfied: smart-open>=1.8.1 in c:\\users\\k harshini devi\\anaconda3\\lib\\site-packages (from gensim) (7.1.0)\n",
      "Requirement already satisfied: numpy<2.0,>=1.18.5 in c:\\users\\k harshini devi\\anaconda3\\lib\\site-packages (from gensim) (1.22.4)\n",
      "Requirement already satisfied: scipy<1.14.0,>=1.7.0 in c:\\users\\k harshini devi\\anaconda3\\lib\\site-packages (from gensim) (1.7.1)\n",
      "Requirement already satisfied: wrapt in c:\\users\\k harshini devi\\anaconda3\\lib\\site-packages (from smart-open>=1.8.1->gensim) (1.12.1)\n",
      "Installing collected packages: gensim\n",
      "Successfully installed gensim-4.3.3\n"
     ]
    }
   ],
   "source": [
    "!pip install gensim"
   ]
  },
  {
   "cell_type": "code",
   "execution_count": 7,
   "id": "0d061be3",
   "metadata": {},
   "outputs": [
    {
     "name": "stderr",
     "output_type": "stream",
     "text": [
      "[nltk_data] Downloading package punkt to C:\\Users\\K HARSHINI\n",
      "[nltk_data]     DEVI\\AppData\\Roaming\\nltk_data...\n",
      "[nltk_data]   Package punkt is already up-to-date!\n"
     ]
    },
    {
     "name": "stdout",
     "output_type": "stream",
     "text": [
      "Tokenized Text: ['sample', 'file', 'love', 'python', 'programming']\n",
      "Stemmed Text: sampl file love python program\n",
      "Lemmatized Text: sample file love python programming\n"
     ]
    }
   ],
   "source": [
    "import gensim\n",
    "import gensim.downloader as api\n",
    "from gensim.utils import simple_preprocess\n",
    "from gensim.parsing.preprocessing import remove_stopwords, preprocess_string, strip_punctuation, strip_numeric, stem_text\n",
    "from nltk.stem import PorterStemmer\n",
    "from nltk.tokenize import word_tokenize\n",
    "import spacy\n",
    "import nltk\n",
    "\n",
    "# Download NLTK tokenizer if not already downloaded\n",
    "nltk.download('punkt')\n",
    "\n",
    "# Load SpaCy English model for lemmatization\n",
    "nlp = spacy.load(\"en_core_web_sm\")\n",
    "\n",
    "# Load sample text from a file\n",
    "def load_text(file_path):\n",
    "    with open(file_path, \"r\", encoding=\"utf-8\") as file:\n",
    "        return file.read()\n",
    "\n",
    "# Tokenization using Gensim\n",
    "def tokenize_text(text):\n",
    "    return simple_preprocess(text)\n",
    "\n",
    "# Stemming using NLTK's Porter Stemmer\n",
    "def stem_text_nltk(text):\n",
    "    ps = PorterStemmer()\n",
    "    tokens = word_tokenize(text)\n",
    "    return \" \".join([ps.stem(word) for word in tokens])\n",
    "\n",
    "# Lemmatization using SpaCy\n",
    "def lemmatize_text(text):\n",
    "    doc = nlp(text)\n",
    "    return \" \".join([token.lemma_ for token in doc])\n",
    "\n",
    "# Full preprocessing function\n",
    "def preprocess_text(text):\n",
    "    text = text.lower()  # Convert to lowercase\n",
    "    text = remove_stopwords(text)  # Remove stopwords\n",
    "    text = text = \" \".join(preprocess_string(text, filters=[strip_punctuation, strip_numeric]))\n",
    "\n",
    "    \n",
    "    tokens = tokenize_text(text)  # Tokenization\n",
    "    stemmed_text = stem_text_nltk(\" \".join(tokens))  # Stemming\n",
    "    lemmatized_text = lemmatize_text(\" \".join(tokens))  # Lemmatization\n",
    "    \n",
    "    return {\n",
    "        \"tokenized\": tokens,\n",
    "        \"stemmed\": stemmed_text,\n",
    "        \"lemmatized\": lemmatized_text\n",
    "    }\n",
    "\n",
    "# Example usage\n",
    "file_path = r\"C:\\Users\\K HARSHINI DEVI\\OneDrive\\Desktop\\sample.txt\"  # Replace with your actual text file\n",
    "text_data = load_text(file_path)\n",
    "processed_data = preprocess_text(text_data)\n",
    "\n",
    "print(\"Tokenized Text:\", processed_data[\"tokenized\"])\n",
    "print(\"Stemmed Text:\", processed_data[\"stemmed\"])\n",
    "print(\"Lemmatized Text:\", processed_data[\"lemmatized\"])\n"
   ]
  },
  {
   "cell_type": "code",
   "execution_count": null,
   "id": "b7f1207b",
   "metadata": {},
   "outputs": [],
   "source": []
  }
 ],
 "metadata": {
  "kernelspec": {
   "display_name": "Python 3 (ipykernel)",
   "language": "python",
   "name": "python3"
  },
  "language_info": {
   "codemirror_mode": {
    "name": "ipython",
    "version": 3
   },
   "file_extension": ".py",
   "mimetype": "text/x-python",
   "name": "python",
   "nbconvert_exporter": "python",
   "pygments_lexer": "ipython3",
   "version": "3.9.7"
  }
 },
 "nbformat": 4,
 "nbformat_minor": 5
}
