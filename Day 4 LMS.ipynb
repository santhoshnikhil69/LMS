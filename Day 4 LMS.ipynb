{
 "cells": [
  {
   "cell_type": "code",
   "execution_count": 1,
   "id": "663b7146",
   "metadata": {},
   "outputs": [
    {
     "name": "stdout",
     "output_type": "stream",
     "text": [
      "this: 2\n",
      "is: 2\n",
      "a: 2\n",
      "sample: 2\n",
      "text: 1\n",
      "with: 1\n",
      "some: 1\n",
      "words: 1\n",
      "and: 1\n",
      "test.: 1\n"
     ]
    }
   ],
   "source": [
    "# Function to calculate word frequency\n",
    "def word_frequency(text):\n",
    "    # Convert the text to lowercase and split into words\n",
    "    words = text.lower().split()\n",
    "    \n",
    "    # Create a dictionary to store word frequencies\n",
    "    frequency = {}\n",
    "    \n",
    "    # Loop through each word in the list\n",
    "    for word in words:\n",
    "        # If the word is already in the dictionary, increment its count\n",
    "        if word in frequency:\n",
    "            frequency[word] += 1\n",
    "        # If the word is not in the dictionary, add it with a count of 1\n",
    "        else:\n",
    "            frequency[word] = 1\n",
    "            \n",
    "    # Print the words and their corresponding counts\n",
    "    for word, count in frequency.items():\n",
    "        print(f\"{word}: {count}\")\n",
    "\n",
    "# Example usage\n",
    "text = \"This is a sample text with some sample words and this is a test.\"\n",
    "word_frequency(text)\n"
   ]
  },
  {
   "cell_type": "code",
   "execution_count": null,
   "id": "645c7aa9",
   "metadata": {},
   "outputs": [],
   "source": []
  }
 ],
 "metadata": {
  "kernelspec": {
   "display_name": "Python 3 (ipykernel)",
   "language": "python",
   "name": "python3"
  },
  "language_info": {
   "codemirror_mode": {
    "name": "ipython",
    "version": 3
   },
   "file_extension": ".py",
   "mimetype": "text/x-python",
   "name": "python",
   "nbconvert_exporter": "python",
   "pygments_lexer": "ipython3",
   "version": "3.9.7"
  }
 },
 "nbformat": 4,
 "nbformat_minor": 5
}
