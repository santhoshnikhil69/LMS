{
 "cells": [
  {
   "cell_type": "code",
   "execution_count": 2,
   "id": "8f68be4e",
   "metadata": {},
   "outputs": [
    {
     "name": "stdout",
     "output_type": "stream",
     "text": [
      "TextBlob module not found. Installing...\n",
      "Sentiment: Positive (Polarity: 0.75)\n"
     ]
    }
   ],
   "source": [
    "import sys\n",
    "\n",
    "try:\n",
    "    from textblob import TextBlob\n",
    "except ModuleNotFoundError:\n",
    "    print(\"TextBlob module not found. Installing...\")\n",
    "    import subprocess\n",
    "    subprocess.check_call([sys.executable, \"-m\", \"pip\", \"install\", \"textblob\"])\n",
    "    from textblob import TextBlob\n",
    "\n",
    "def perform_sentiment_analysis(text):\n",
    "    # Create a TextBlob object\n",
    "    blob = TextBlob(text)\n",
    "    \n",
    "    # Get the sentiment polarity\n",
    "    polarity = blob.sentiment.polarity\n",
    "    \n",
    "    # Determine sentiment category\n",
    "    if polarity > 0:\n",
    "        sentiment = \"Positive\"\n",
    "    elif polarity < 0:\n",
    "        sentiment = \"Negative\"\n",
    "    else:\n",
    "        sentiment = \"Neutral\"\n",
    "    \n",
    "    print(f\"Sentiment: {sentiment} (Polarity: {polarity:.2f})\")\n",
    "\n",
    "# Example usage\n",
    "text = \"I love this beautiful day!\"\n",
    "perform_sentiment_analysis(text)"
   ]
  },
  {
   "cell_type": "code",
   "execution_count": null,
   "id": "f48983fd",
   "metadata": {},
   "outputs": [],
   "source": []
  }
 ],
 "metadata": {
  "kernelspec": {
   "display_name": "Python 3 (ipykernel)",
   "language": "python",
   "name": "python3"
  },
  "language_info": {
   "codemirror_mode": {
    "name": "ipython",
    "version": 3
   },
   "file_extension": ".py",
   "mimetype": "text/x-python",
   "name": "python",
   "nbconvert_exporter": "python",
   "pygments_lexer": "ipython3",
   "version": "3.9.7"
  }
 },
 "nbformat": 4,
 "nbformat_minor": 5
}
